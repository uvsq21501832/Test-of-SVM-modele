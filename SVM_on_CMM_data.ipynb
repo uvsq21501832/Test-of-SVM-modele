{
 "cells": [
  {
   "cell_type": "markdown",
   "metadata": {},
   "source": [
    "## I. Chargement des données\n",
    "\n"
   ]
  },
  {
   "cell_type": "code",
   "execution_count": 75,
   "metadata": {},
   "outputs": [
    {
     "name": "stdout",
     "output_type": "stream",
     "text": [
      "taille dataset (50,)\n",
      "\t\t\t\t\t DONNEES D'ENTRAINEMMENT\n",
      "DERNIERE LIGNE DU FICHIER :  ['50', \"'N'\\n\"]\n",
      "\n",
      "NOMBRE DE COLONNE :  2\n",
      "\n",
      "PREMIERE X_raw :  1\n",
      "\n",
      "PREMIERE Y_raw :  'A'\n",
      "\n",
      "\n",
      "DERNIERE X_raw :  50\n",
      "\n",
      "DERNIERE Y_raw :  'N'\n",
      "\n",
      "['1' '2' '3' '4' '5' '6' '7' '8' '9' '10' '11' '12' '13' '14' '15' '16'\n",
      " '17' '18' '19' '20' '21' '22' '23' '24' '25' '26' '27' '28' '29' '30'\n",
      " '31' '32' '33' '34' '35' '36' '37' '38' '39' '40' '41' '42' '43' '44'\n",
      " '45' '46' '47' '48' '49' '50']\n",
      "[\"'A'\\n\" \"'N'\\n\" \"'A'\\n\" \"'A'\\n\" \"'N'\\n\" \"'A'\\n\" \"'N'\\n\" \"'A'\\n\" \"'N'\\n\"\n",
      " \"'N'\\n\" \"'A'\\n\" \"'A'\\n\" \"'N'\\n\" \"'N'\\n\" \"'N'\\n\" \"'N'\\n\" \"'N'\\n\" \"'N'\\n\"\n",
      " \"'A'\\n\" \"'A'\\n\" \"'A'\\n\" \"'A'\\n\" \"'A'\\n\" \"'A'\\n\" \"'N'\\n\" \"'N'\\n\" \"'N'\\n\"\n",
      " \"'N'\\n\" \"'A'\\n\" \"'N'\\n\" \"'N'\\n\" \"'N'\\n\" \"'A'\\n\" \"'N'\\n\" \"'N'\\n\" \"'N'\\n\"\n",
      " \"'N'\\n\" \"'N'\\n\" \"'A'\\n\" \"'N'\\n\" \"'N'\\n\" \"'N'\\n\" \"'N'\\n\" \"'N'\\n\" \"'N'\\n\"\n",
      " \"'N'\\n\" \"'N'\\n\" \"'N'\\n\" \"'A'\\n\" \"'N'\\n\"]\n"
     ]
    }
   ],
   "source": [
    "import numpy as np\n",
    "import math\n",
    "\n",
    "data_file = open(\"data\\Dataset_txt.txt\", \"r\")\n",
    "\n",
    "#Limitation de la taille de dataset\n",
    "dataset_len = 100\n",
    "\n",
    "# Definition de X_train_raw et Y_train_raw\n",
    "X_raw = np.zeros(dataset_len, dtype=\"object\")\n",
    "Y_raw = np.zeros(dataset_len, dtype=\"object\")\n",
    "\n",
    "#Chargement des données dans X_train_raw et Y_train_raw\n",
    "nb_line = 0\n",
    "for line in data_file :\n",
    "    new_line = line.split(\",\")\n",
    "    X_raw[nb_line] = new_line[0]\n",
    "    Y_raw[nb_line] = new_line[1]\n",
    "    nb_line+=1\n",
    "    if nb_line == dataset_len :\n",
    "        break\n",
    "\n",
    "#Visualisation chargement\n",
    "print(\"taille dataset\", X_raw.shape)\n",
    "print(\"\\t\\t\\t\\t\\t DONNEES D'ENTRAINEMMENT\")\n",
    "print(\"DERNIERE LIGNE DU FICHIER : \", new_line)\n",
    "print(\"\\nNOMBRE DE COLONNE : \", len(new_line))\n",
    "print(\"\\nPREMIERE X_raw : \", X_raw[0])\n",
    "print(\"\\nPREMIERE Y_raw : \", Y_raw[0])\n",
    "\n",
    "print(\"\\nDERNIERE X_raw : \", X_raw[dataset_len-1])\n",
    "print(\"\\nDERNIERE Y_raw : \", Y_raw[dataset_len-1])\n",
    "\n",
    "print(X_raw)\n",
    "print(Y_raw)"
   ]
  },
  {
   "cell_type": "markdown",
   "metadata": {},
   "source": [
    "## III. Pré-traitements des données\n",
    "Numeriration des données catégorielles"
   ]
  },
  {
   "cell_type": "code",
   "execution_count": 76,
   "metadata": {},
   "outputs": [
    {
     "name": "stdout",
     "output_type": "stream",
     "text": [
      "['1' '2' '3' '4' '5' '6' '7' '8' '9' '10' '11' '12' '13' '14' '15' '16'\n",
      " '17' '18' '19' '20' '21' '22' '23' '24' '25' '26' '27' '28' '29' '30'\n",
      " '31' '32' '33' '34' '35' '36' '37' '38' '39' '40' '41' '42' '43' '44'\n",
      " '45' '46' '47' '48' '49' '50']\n",
      "[1 0 1 1 0 1 0 1 0 0 1 1 0 0 0 0 0 0 1 1 1 1 1 1 0 0 0 0 1 0 0 0 1 0 0 0 0\n",
      " 0 1 0 0 0 0 0 0 0 0 0 1 0]\n"
     ]
    }
   ],
   "source": [
    "# Definition des données numeriques\n",
    "X = np.zeros(dataset_len, dtype=\"object\")\n",
    "Y = np.zeros(dataset_len, dtype=\"int\")\n",
    "\n",
    "X = X_raw\n",
    "\n",
    "dict_state={\"A\":1, \"N\":0}\n",
    "\n",
    "for index, state in enumerate(Y_raw):\n",
    "    if  \"A\" in state:\n",
    "        Y[index] = 1\n",
    "    else :\n",
    "        Y[index] = 0\n",
    "print(X)\n",
    "print(Y)\n",
    "\n",
    "X = X.reshape(-1, 1)\n",
    "#Y=Y.astype('int')\n",
    "#Y = train[:, 1]"
   ]
  },
  {
   "cell_type": "markdown",
   "metadata": {},
   "source": [
    "## II. Partitionnement des données (Train and Test)"
   ]
  },
  {
   "cell_type": "code",
   "execution_count": 77,
   "metadata": {},
   "outputs": [
    {
     "name": "stdout",
     "output_type": "stream",
     "text": [
      "TAILLE X_TRAIN :  40\n",
      "TAILLE Y_TRAIN:  40\n",
      "\n",
      "TAILLE X_TEST :  10\n",
      "TAILLE Y_TEST :  10\n",
      "[['30']\n",
      " ['35']\n",
      " ['18']\n",
      " ['40']\n",
      " ['2']]\n",
      "[0 0 0 0 0]\n"
     ]
    }
   ],
   "source": [
    "from sklearn.model_selection import train_test_split\n",
    "\n",
    "train_partition = 0.20 #20%\n",
    "X_train, X_test, Y_train, Y_test = train_test_split(X, Y, test_size=train_partition, random_state=33)\n",
    "\n",
    "# Vérification du partitionnement.\n",
    "print(\"TAILLE X_TRAIN : \", len(X_train))\n",
    "print(\"TAILLE Y_TRAIN: \", len(Y_train))\n",
    "print(\"\\nTAILLE X_TEST : \", len(X_test))\n",
    "print(\"TAILLE Y_TEST : \", len(Y_test))\n",
    "print(X_train[:5])\n",
    "print(Y_train[:5])"
   ]
  },
  {
   "cell_type": "markdown",
   "metadata": {},
   "source": [
    "################################################################################################################################# \n",
    "\n",
    "## IV. Modèle : Machines à vecteur de support\n",
    "\n"
   ]
  },
  {
   "cell_type": "code",
   "execution_count": 78,
   "metadata": {},
   "outputs": [],
   "source": [
    "from sklearn import svm\n",
    "def linearSVM_model():\n",
    "    print(\"SVM with Linear Kernel\\n\")\n",
    "    # create model\n",
    "    model = svm.SVC(C=1.0, cache_size=200, class_weight=None, coef0=0.0,\n",
    "    decision_function_shape='ovo', degree=3, gamma='auto', kernel='linear',\n",
    "    max_iter=-1, probability=True, random_state=None, shrinking=True,\n",
    "    tol=0.001, verbose=True)\n",
    "\n",
    "    return model"
   ]
  },
  {
   "cell_type": "code",
   "execution_count": 79,
   "metadata": {},
   "outputs": [
    {
     "name": "stdout",
     "output_type": "stream",
     "text": [
      "SVM with Linear Kernel\n",
      "\n",
      "[LibSVM]"
     ]
    }
   ],
   "source": [
    "model = linearSVM_model()\n",
    "model.fit(X_train, Y_train)\n",
    "\n",
    "# Train dataset\n",
    "Ytrain_pred = model.predict(X_train)\n",
    "\n",
    "# Test dataset\n",
    "Ytest_pred = model.predict(X_test)\n",
    "Ytest_pred\n",
    "Ytest_pred_prob = model.predict_proba(X_test)\n",
    "Ytest_pred_prob\n",
    "\n",
    "# All dataset\n",
    "Y_pred = model.predict(X)"
   ]
  },
  {
   "cell_type": "markdown",
   "metadata": {},
   "source": [
    "#### V.1.2. Evaluation et comparaison des performances"
   ]
  },
  {
   "cell_type": "code",
   "execution_count": 80,
   "metadata": {},
   "outputs": [
    {
     "name": "stdout",
     "output_type": "stream",
     "text": [
      "Correct classification rate for the train dataset = 65.0%\n",
      "Correct classification rate for the test dataset = 70.0%\n",
      "Correct classification rate for the all dataset = 66.0%\n"
     ]
    }
   ],
   "source": [
    "from sklearn.metrics import accuracy_score\n",
    "\n",
    "# Train dataset\n",
    "scores = accuracy_score(Y_train, Ytrain_pred )\n",
    "print(\"Correct classification rate for the train dataset = \"+str(scores*100)+\"%\")\n",
    "\n",
    "# Test dataset\n",
    "scores = accuracy_score(Y_test, Ytest_pred )\n",
    "print(\"Correct classification rate for the test dataset = \"+str(scores*100)+\"%\")\n",
    "\n",
    "# All dataset\n",
    "scores = accuracy_score(Y, Y_pred )\n",
    "print(\"Correct classification rate for the all dataset = \"+str(scores*100)+\"%\")"
   ]
  },
  {
   "cell_type": "markdown",
   "metadata": {},
   "source": [
    "Fin Notebook"
   ]
  }
 ],
 "metadata": {
  "kernelspec": {
   "display_name": "Python 3",
   "language": "python",
   "name": "python3"
  },
  "language_info": {
   "codemirror_mode": {
    "name": "ipython",
    "version": 3
   },
   "file_extension": ".py",
   "mimetype": "text/x-python",
   "name": "python",
   "nbconvert_exporter": "python",
   "pygments_lexer": "ipython3",
   "version": "3.6.4"
  }
 },
 "nbformat": 4,
 "nbformat_minor": 2
}
