{
 "cells": [
  {
   "cell_type": "markdown",
   "metadata": {},
   "source": [
    "## I. Chargement des données\n",
    "\n"
   ]
  },
  {
   "cell_type": "code",
   "execution_count": 2,
   "metadata": {},
   "outputs": [
    {
     "name": "stdout",
     "output_type": "stream",
     "text": [
      "\n",
      "PREMIERE LIGNE X_raw_galaxies : \n",
      " ['4.393092408703673613e+01' '5.101459655976992735e+01'\n",
      " '5.771034782136849373e+01' ... '1.363720739422686901e-01'\n",
      " '1.217846971034011005e+01' '4.000000000000000000e+01\\n']\n",
      "\n",
      "PREMIERE LIGNE Y_raw_galaxies :  1.0\n",
      "\n",
      "DERNIERE LIGNE X_raw_galaxies :  ['2.383338632750397323e+01' '3.438340222575516947e+01'\n",
      " '4.432165341812400783e+01' ... '2.938703437671911778e-01'\n",
      " '2.854937287134253054e+01' '6.200000000000000000e+01\\n']\n",
      "\n",
      "DERNIERE LIGNE Y_raw_galaxies :  1.0 \n",
      "\n",
      "(15860, 77)\n"
     ]
    }
   ],
   "source": [
    "import numpy as np\n",
    "import math\n",
    "\n",
    "# On défini la longueur du dataset en fonction du nombre de vecteurs fournis pour ce laboratoire moins ceux pour lesquelles\n",
    "# aucune image correspondante n'existe et donc, pour lesquelles nous ne pouvons pas retirer les primitives que nous aurions\n",
    "# ovtenu au premiers laboratoire.\n",
    "dataset_len = 16908 - 1048\n",
    "\n",
    "#count_features = 74 + 3 # +3 pour les trois primitives extraites lors du premier laboratoire.\n",
    "count_features = 77\n",
    "\n",
    "# Definition de X_raw_galaxies et Y_raw_galaxies\n",
    "X_galaxies_ids = np.zeros(dataset_len, dtype=\"uint\")\n",
    "X_raw_galaxies = np.zeros((dataset_len,count_features), dtype=\"object\")\n",
    "Y_raw_galaxies = np.zeros(dataset_len)\n",
    "    \n",
    "\n",
    "#Chargement des données dans X_raw_galaxies et Y_raw_galaxies\n",
    "# On effectue une lecture en parallèle des fichiers contenant l'ensemble de vecteurs.\n",
    "nb_line = 0\n",
    "for vector_line, primitive_line in zip(open(\"data/galaxy_feature_vectors.csv\"), open(\"data/tp01_galaxy_primitives.csv\")):\n",
    "    v_line = vector_line.split(\",\")\n",
    "    p_line = primitive_line.split(\",\")\n",
    "    \n",
    "    # Si nous n'avons pas de donnees sur les primitives du TP01, on ignore la ligne.\n",
    "    if (float(p_line[1]) == -1 and float(p_line[2]) == -1 and float(p_line[3]) == -1):\n",
    "        continue\n",
    "        \n",
    "    X_galaxies_ids[nb_line] = int(float(v_line[0]));\n",
    "    X_raw_galaxies[nb_line][:count_features - 3] = v_line[1: count_features - 2]\n",
    "    \n",
    "    # On ajoute les primitives obtenues au TP#1\n",
    "    X_raw_galaxies[nb_line][count_features - 3] = p_line[1]\n",
    "    X_raw_galaxies[nb_line][count_features - 2] = p_line[2]\n",
    "    X_raw_galaxies[nb_line][count_features - 1] = p_line[3]\n",
    "    \n",
    "    Y_raw_galaxies[nb_line] = v_line[count_features - 2]\n",
    "    nb_line+=1\n",
    "    if nb_line == dataset_len :\n",
    "        break\n",
    "\n",
    "#Visualisation du chargement\n",
    "np.set_printoptions(threshold = 2)\n",
    "\n",
    "print(\"\\nPREMIERE LIGNE X_raw_galaxies : \\n\", X_raw_galaxies[0])\n",
    "print(\"\\nPREMIERE LIGNE Y_raw_galaxies : \", Y_raw_galaxies[0])\n",
    "\n",
    "print(\"\\nDERNIERE LIGNE X_raw_galaxies : \", X_raw_galaxies[dataset_len-1])\n",
    "print(\"\\nDERNIERE LIGNE Y_raw_galaxies : \", Y_raw_galaxies[dataset_len-1], \"\\n\")\n",
    "\n",
    "print(X_raw_galaxies.shape)"
   ]
  },
  {
   "cell_type": "markdown",
   "metadata": {},
   "source": [
    "## II. Partitionnement des données (Train and Test)"
   ]
  },
  {
   "cell_type": "code",
   "execution_count": 3,
   "metadata": {},
   "outputs": [
    {
     "name": "stdout",
     "output_type": "stream",
     "text": [
      "TAILLE X_TRAIN_GALAXIES :  12688\n",
      "TAILLE Y_TRAIN_GALAXIES :  12688\n",
      "\n",
      "TAILLE X_TEST_GALAXIES :  3172\n",
      "TAILLE Y_TEST_GALAXIES :  3172\n"
     ]
    }
   ],
   "source": [
    "from sklearn.model_selection import train_test_split\n",
    "\n",
    "train_partition = 0.20 #20%\n",
    "X_train_galaxies, X_test_galaxies, Y_train_galaxies, Y_test_galaxies = train_test_split(X_raw_galaxies, Y_raw_galaxies, test_size=train_partition, random_state=33)\n",
    "\n",
    "# Vérification du partitionnement.\n",
    "print(\"TAILLE X_TRAIN_GALAXIES : \", len(X_train_galaxies))\n",
    "print(\"TAILLE Y_TRAIN_GALAXIES : \", len(Y_train_galaxies))\n",
    "print(\"\\nTAILLE X_TEST_GALAXIES : \", len(X_test_galaxies))\n",
    "print(\"TAILLE Y_TEST_GALAXIES : \", len(Y_test_galaxies))"
   ]
  },
  {
   "cell_type": "markdown",
   "metadata": {},
   "source": [
    "## III. Pré-traitements des données"
   ]
  },
  {
   "cell_type": "code",
   "execution_count": 4,
   "metadata": {},
   "outputs": [
    {
     "name": "stderr",
     "output_type": "stream",
     "text": [
      "C:\\Users\\Poulmanogo\\Anaconda3\\lib\\site-packages\\sklearn\\utils\\validation.py:475: DataConversionWarning: Data with input dtype object was converted to float64 by MinMaxScaler.\n",
      "  warnings.warn(msg, DataConversionWarning)\n"
     ]
    }
   ],
   "source": [
    "from sklearn.preprocessing import MinMaxScaler\n",
    "scaler = MinMaxScaler(feature_range=(0, 1))\n",
    "X_train_galaxies_normalized = scaler.fit_transform(X_train_galaxies)\n",
    "X_test_galaxies_normalized = scaler.fit_transform(X_test_galaxies)"
   ]
  },
  {
   "cell_type": "markdown",
   "metadata": {},
   "source": [
    "################################################################################################################################# \n",
    "\n",
    "## IV. Modèle : Machines à vecteur de support\n",
    "\n"
   ]
  },
  {
   "cell_type": "code",
   "execution_count": 5,
   "metadata": {},
   "outputs": [],
   "source": [
    "from sklearn import svm\n",
    "def linearSVM_model():\n",
    "    print(\"SVM with Linear Kernel\\n\")\n",
    "    # create model\n",
    "    model = svm.SVC(C=1.0, cache_size=200, class_weight=None, coef0=0.0,\n",
    "    decision_function_shape='ovo', degree=3, gamma='auto', kernel='linear',\n",
    "    max_iter=-1, probability=True, random_state=None, shrinking=True,\n",
    "    tol=0.001, verbose=True)\n",
    "\n",
    "    return model"
   ]
  },
  {
   "cell_type": "code",
   "execution_count": 6,
   "metadata": {},
   "outputs": [
    {
     "name": "stdout",
     "output_type": "stream",
     "text": [
      "SVM with Linear Kernel\n",
      "\n",
      "[LibSVM]"
     ]
    },
    {
     "data": {
      "text/plain": [
       "array([[2.29673905e-01, 7.70326095e-01],\n",
       "       [9.87090508e-01, 1.29094923e-02],\n",
       "       [4.41592619e-11, 1.00000000e+00],\n",
       "       ...,\n",
       "       [6.64256221e-01, 3.35743779e-01],\n",
       "       [9.57068517e-01, 4.29314826e-02],\n",
       "       [9.87950908e-01, 1.20490922e-02]])"
      ]
     },
     "execution_count": 6,
     "metadata": {},
     "output_type": "execute_result"
    }
   ],
   "source": [
    "model = linearSVM_model()\n",
    "model.fit(X_train_galaxies_normalized, Y_train_galaxies)\n",
    "\n",
    "Ytest_pred = model.predict(X_test_galaxies_normalized)\n",
    "Ytest_pred\n",
    "\n",
    "Ytest_pred_prob = model.predict_proba(X_test_galaxies_normalized)\n",
    "Ytest_pred_prob"
   ]
  },
  {
   "cell_type": "markdown",
   "metadata": {},
   "source": [
    "#### V.1.2. Evaluation et comparaison des performances"
   ]
  },
  {
   "cell_type": "code",
   "execution_count": 7,
   "metadata": {},
   "outputs": [
    {
     "name": "stdout",
     "output_type": "stream",
     "text": [
      "Correct classification rate for the test dataset = 94.04161412358134%\n"
     ]
    }
   ],
   "source": [
    "from sklearn.metrics import accuracy_score\n",
    "\n",
    "scores = accuracy_score(Y_test_galaxies, Ytest_pred )\n",
    "print(\"Correct classification rate for the test dataset = \"+str(scores*100)+\"%\")"
   ]
  },
  {
   "cell_type": "markdown",
   "metadata": {},
   "source": [
    "Fin Notebook"
   ]
  }
 ],
 "metadata": {
  "kernelspec": {
   "display_name": "Python 3",
   "language": "python",
   "name": "python3"
  },
  "language_info": {
   "codemirror_mode": {
    "name": "ipython",
    "version": 3
   },
   "file_extension": ".py",
   "mimetype": "text/x-python",
   "name": "python",
   "nbconvert_exporter": "python",
   "pygments_lexer": "ipython3",
   "version": "3.6.4"
  }
 },
 "nbformat": 4,
 "nbformat_minor": 2
}
